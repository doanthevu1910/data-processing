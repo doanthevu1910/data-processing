{
 "cells": [
  {
   "cell_type": "code",
   "execution_count": 1,
   "id": "57a5ae02",
   "metadata": {},
   "outputs": [],
   "source": [
    "import pandas as pd"
   ]
  },
  {
   "cell_type": "code",
   "execution_count": 2,
   "id": "26c48b19",
   "metadata": {},
   "outputs": [],
   "source": [
    "df = pd.read_csv('movies.csv')"
   ]
  },
  {
   "cell_type": "code",
   "execution_count": 17,
   "id": "9f78932e",
   "metadata": {},
   "outputs": [],
   "source": [
    "df = df.sort_values(by='year_of_release')"
   ]
  },
  {
   "cell_type": "code",
   "execution_count": 9,
   "id": "12420271",
   "metadata": {},
   "outputs": [],
   "source": [
    "n = 5\n",
    "\n",
    "result = pd.DataFrame(columns = df.columns)"
   ]
  },
  {
   "cell_type": "code",
   "execution_count": 26,
   "id": "f921e42e",
   "metadata": {},
   "outputs": [],
   "source": [
    "for year in df.year_of_release.unique().tolist():\n",
    "    data = df[df.year_of_release == year]\n",
    "    top_n = data.sort_values(by='rating', ascending=False).head(n)\n",
    "    \n",
    "    result = pd.concat([result, top_n])"
   ]
  },
  {
   "cell_type": "code",
   "execution_count": 28,
   "id": "5f772936",
   "metadata": {},
   "outputs": [],
   "source": [
    "result.to_csv(f'top{n}.csv', index=False)"
   ]
  }
 ],
 "metadata": {
  "kernelspec": {
   "display_name": "Python 3 (ipykernel)",
   "language": "python",
   "name": "python3"
  },
  "language_info": {
   "codemirror_mode": {
    "name": "ipython",
    "version": 3
   },
   "file_extension": ".py",
   "mimetype": "text/x-python",
   "name": "python",
   "nbconvert_exporter": "python",
   "pygments_lexer": "ipython3",
   "version": "3.9.12"
  }
 },
 "nbformat": 4,
 "nbformat_minor": 5
}
