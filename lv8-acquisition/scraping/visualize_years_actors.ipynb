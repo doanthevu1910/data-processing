{
 "cells": [
  {
   "cell_type": "code",
   "execution_count": 2,
   "id": "905dfcca",
   "metadata": {},
   "outputs": [],
   "source": [
    "import pandas as pd\n",
    "\n",
    "df = pd.read_csv('top5.csv')"
   ]
  },
  {
   "cell_type": "code",
   "execution_count": 3,
   "id": "bc557f4f",
   "metadata": {},
   "outputs": [
    {
     "data": {
      "text/html": [
       "<div>\n",
       "<style scoped>\n",
       "    .dataframe tbody tr th:only-of-type {\n",
       "        vertical-align: middle;\n",
       "    }\n",
       "\n",
       "    .dataframe tbody tr th {\n",
       "        vertical-align: top;\n",
       "    }\n",
       "\n",
       "    .dataframe thead th {\n",
       "        text-align: right;\n",
       "    }\n",
       "</style>\n",
       "<table border=\"1\" class=\"dataframe\">\n",
       "  <thead>\n",
       "    <tr style=\"text-align: right;\">\n",
       "      <th></th>\n",
       "      <th>title</th>\n",
       "      <th>rating</th>\n",
       "      <th>year_of_release</th>\n",
       "      <th>director</th>\n",
       "      <th>actors</th>\n",
       "      <th>runtime</th>\n",
       "      <th>url</th>\n",
       "    </tr>\n",
       "  </thead>\n",
       "  <tbody>\n",
       "    <tr>\n",
       "      <th>0</th>\n",
       "      <td>All Quiet on the Western Front</td>\n",
       "      <td>8.1</td>\n",
       "      <td>1930</td>\n",
       "      <td>Lewis Milestone</td>\n",
       "      <td>Lew Ayres; Louis Wolheim; John Wray; Arnold Lucy</td>\n",
       "      <td>152</td>\n",
       "      <td>/title/tt0020629/?ref_=adv_li_tt</td>\n",
       "    </tr>\n",
       "    <tr>\n",
       "      <th>1</th>\n",
       "      <td>Der blaue Engel</td>\n",
       "      <td>7.7</td>\n",
       "      <td>1930</td>\n",
       "      <td>Josef von Sternberg</td>\n",
       "      <td>Emil Jannings; Marlene Dietrich; Kurt Gerron; ...</td>\n",
       "      <td>104</td>\n",
       "      <td>/title/tt0020697/?ref_=adv_li_tt</td>\n",
       "    </tr>\n",
       "    <tr>\n",
       "      <th>2</th>\n",
       "      <td>Animal Crackers</td>\n",
       "      <td>7.4</td>\n",
       "      <td>1930</td>\n",
       "      <td>Victor Heerman</td>\n",
       "      <td>Groucho Marx; Harpo Marx; Chico Marx; The Marx...</td>\n",
       "      <td>97</td>\n",
       "      <td>/title/tt0020640/?ref_=adv_li_tt</td>\n",
       "    </tr>\n",
       "    <tr>\n",
       "      <th>3</th>\n",
       "      <td>Hell's Angels</td>\n",
       "      <td>7.3</td>\n",
       "      <td>1930</td>\n",
       "      <td>Howard Hughes, Edmund Goulding, James Whale</td>\n",
       "      <td>Ben Lyon; James Hall; Jean Harlow; John Darrow</td>\n",
       "      <td>127</td>\n",
       "      <td>/title/tt0020960/?ref_=adv_li_tt</td>\n",
       "    </tr>\n",
       "    <tr>\n",
       "      <th>4</th>\n",
       "      <td>Zemlya</td>\n",
       "      <td>7.2</td>\n",
       "      <td>1930</td>\n",
       "      <td>Aleksandr Dovzhenko</td>\n",
       "      <td>Stepan Shkurat; Semyon Svashenko; Yuliya Solnt...</td>\n",
       "      <td>75</td>\n",
       "      <td>/title/tt0021571/?ref_=adv_li_tt</td>\n",
       "    </tr>\n",
       "    <tr>\n",
       "      <th>...</th>\n",
       "      <td>...</td>\n",
       "      <td>...</td>\n",
       "      <td>...</td>\n",
       "      <td>...</td>\n",
       "      <td>...</td>\n",
       "      <td>...</td>\n",
       "      <td>...</td>\n",
       "    </tr>\n",
       "    <tr>\n",
       "      <th>445</th>\n",
       "      <td>Little Baby</td>\n",
       "      <td>8.5</td>\n",
       "      <td>2019</td>\n",
       "      <td>Shekhar S. Jha</td>\n",
       "      <td>Priyanshu Chatterjee; Gulnaz Siganporia; Shiva...</td>\n",
       "      <td>105</td>\n",
       "      <td>/title/tt8569206/?ref_=adv_li_tt</td>\n",
       "    </tr>\n",
       "    <tr>\n",
       "      <th>446</th>\n",
       "      <td>Kaithi</td>\n",
       "      <td>8.5</td>\n",
       "      <td>2019</td>\n",
       "      <td>Lokesh Kanagaraj</td>\n",
       "      <td>Karthi; Narain; Arjun Das; George Maryan</td>\n",
       "      <td>145</td>\n",
       "      <td>/title/tt9900782/?ref_=adv_li_tt</td>\n",
       "    </tr>\n",
       "    <tr>\n",
       "      <th>447</th>\n",
       "      <td>Kumbalangi Nights</td>\n",
       "      <td>8.5</td>\n",
       "      <td>2019</td>\n",
       "      <td>Madhu C. Narayanan</td>\n",
       "      <td>Shane Nigam; Soubin Shahir; Fahadh Faasil; Sre...</td>\n",
       "      <td>135</td>\n",
       "      <td>/title/tt8413338/?ref_=adv_li_tt</td>\n",
       "    </tr>\n",
       "    <tr>\n",
       "      <th>448</th>\n",
       "      <td>Gisaengchung</td>\n",
       "      <td>8.5</td>\n",
       "      <td>2019</td>\n",
       "      <td>Bong Joon Ho</td>\n",
       "      <td>Song Kang-ho; Lee Sun-kyun; Cho Yeo-jeong; Cho...</td>\n",
       "      <td>132</td>\n",
       "      <td>/title/tt6751668/?ref_=adv_li_tt</td>\n",
       "    </tr>\n",
       "    <tr>\n",
       "      <th>449</th>\n",
       "      <td>Jersey</td>\n",
       "      <td>8.5</td>\n",
       "      <td>2019</td>\n",
       "      <td>Gowtam Tinnanuri</td>\n",
       "      <td>Nani; Shraddha Srinath; Sathyaraj; Ronit Kamra</td>\n",
       "      <td>157</td>\n",
       "      <td>/title/tt8948790/?ref_=adv_li_tt</td>\n",
       "    </tr>\n",
       "  </tbody>\n",
       "</table>\n",
       "<p>450 rows × 7 columns</p>\n",
       "</div>"
      ],
      "text/plain": [
       "                              title  rating  year_of_release  \\\n",
       "0    All Quiet on the Western Front     8.1             1930   \n",
       "1                   Der blaue Engel     7.7             1930   \n",
       "2                   Animal Crackers     7.4             1930   \n",
       "3                     Hell's Angels     7.3             1930   \n",
       "4                            Zemlya     7.2             1930   \n",
       "..                              ...     ...              ...   \n",
       "445                     Little Baby     8.5             2019   \n",
       "446                          Kaithi     8.5             2019   \n",
       "447               Kumbalangi Nights     8.5             2019   \n",
       "448                    Gisaengchung     8.5             2019   \n",
       "449                          Jersey     8.5             2019   \n",
       "\n",
       "                                        director  \\\n",
       "0                                Lewis Milestone   \n",
       "1                            Josef von Sternberg   \n",
       "2                                 Victor Heerman   \n",
       "3    Howard Hughes, Edmund Goulding, James Whale   \n",
       "4                            Aleksandr Dovzhenko   \n",
       "..                                           ...   \n",
       "445                               Shekhar S. Jha   \n",
       "446                             Lokesh Kanagaraj   \n",
       "447                           Madhu C. Narayanan   \n",
       "448                                 Bong Joon Ho   \n",
       "449                             Gowtam Tinnanuri   \n",
       "\n",
       "                                                actors  runtime  \\\n",
       "0     Lew Ayres; Louis Wolheim; John Wray; Arnold Lucy      152   \n",
       "1    Emil Jannings; Marlene Dietrich; Kurt Gerron; ...      104   \n",
       "2    Groucho Marx; Harpo Marx; Chico Marx; The Marx...       97   \n",
       "3       Ben Lyon; James Hall; Jean Harlow; John Darrow      127   \n",
       "4    Stepan Shkurat; Semyon Svashenko; Yuliya Solnt...       75   \n",
       "..                                                 ...      ...   \n",
       "445  Priyanshu Chatterjee; Gulnaz Siganporia; Shiva...      105   \n",
       "446           Karthi; Narain; Arjun Das; George Maryan      145   \n",
       "447  Shane Nigam; Soubin Shahir; Fahadh Faasil; Sre...      135   \n",
       "448  Song Kang-ho; Lee Sun-kyun; Cho Yeo-jeong; Cho...      132   \n",
       "449     Nani; Shraddha Srinath; Sathyaraj; Ronit Kamra      157   \n",
       "\n",
       "                                  url  \n",
       "0    /title/tt0020629/?ref_=adv_li_tt  \n",
       "1    /title/tt0020697/?ref_=adv_li_tt  \n",
       "2    /title/tt0020640/?ref_=adv_li_tt  \n",
       "3    /title/tt0020960/?ref_=adv_li_tt  \n",
       "4    /title/tt0021571/?ref_=adv_li_tt  \n",
       "..                                ...  \n",
       "445  /title/tt8569206/?ref_=adv_li_tt  \n",
       "446  /title/tt9900782/?ref_=adv_li_tt  \n",
       "447  /title/tt8413338/?ref_=adv_li_tt  \n",
       "448  /title/tt6751668/?ref_=adv_li_tt  \n",
       "449  /title/tt8948790/?ref_=adv_li_tt  \n",
       "\n",
       "[450 rows x 7 columns]"
      ]
     },
     "execution_count": 3,
     "metadata": {},
     "output_type": "execute_result"
    }
   ],
   "source": [
    "df"
   ]
  },
  {
   "cell_type": "code",
   "execution_count": 10,
   "id": "dfe079a8",
   "metadata": {},
   "outputs": [],
   "source": [
    "result = pd.DataFrame(columns=['year', 'avg_rating'])\n",
    "\n",
    "for year in df.year_of_release.unique().tolist():\n",
    "    result = pd.concat([result, pd.DataFrame({'year': year, 'avg_rating': df.rating[df.year_of_release == year].mean()\n",
    "    }, index=[0])])"
   ]
  },
  {
   "cell_type": "code",
   "execution_count": 12,
   "id": "dda0811d",
   "metadata": {},
   "outputs": [],
   "source": [
    "import matplotlib.pyplot as plt"
   ]
  },
  {
   "cell_type": "code",
   "execution_count": 13,
   "id": "54328986",
   "metadata": {},
   "outputs": [
    {
     "data": {
      "text/plain": [
       "<BarContainer object of 90 artists>"
      ]
     },
     "execution_count": 13,
     "metadata": {},
     "output_type": "execute_result"
    },
    {
     "data": {
      "image/png": "[encoded data removed]",
      "text/plain": [
       "<Figure size 432x288 with 1 Axes>"
      ]
     },
     "metadata": {
      "needs_background": "light"
     },
     "output_type": "display_data"
    }
   ],
   "source": [
    "plt.bar(result.year, result.avg_rating)"
   ]
  },
  {
   "cell_type": "code",
   "execution_count": 22,
   "id": "40883f0f",
   "metadata": {},
   "outputs": [],
   "source": [
    "actors = df.actors.apply(lambda x: x.split('; '))"
   ]
  },
  {
   "cell_type": "code",
   "execution_count": 34,
   "id": "82003a72",
   "metadata": {},
   "outputs": [],
   "source": [
    "actors = sum(actors, [])"
   ]
  },
  {
   "cell_type": "code",
   "execution_count": 47,
   "id": "02c95b4c",
   "metadata": {},
   "outputs": [],
   "source": [
    "from collections import Counter\n",
    "d = Counter(actors)"
   ]
  },
  {
   "cell_type": "code",
   "execution_count": 51,
   "id": "6210bcd1",
   "metadata": {},
   "outputs": [],
   "source": [
    "app = pd.DataFrame.from_dict(d, orient='index').reset_index()"
   ]
  },
  {
   "cell_type": "code",
   "execution_count": 58,
   "id": "2c198d38",
   "metadata": {},
   "outputs": [],
   "source": [
    "app = app.rename(columns={'index': 'actor', 0: 'appearance'})"
   ]
  },
  {
   "cell_type": "code",
   "execution_count": 64,
   "id": "b342160a",
   "metadata": {},
   "outputs": [],
   "source": [
    "top50 = app.sort_values(by='appearance', ascending=False).head(50)"
   ]
  },
  {
   "cell_type": "code",
   "execution_count": 65,
   "id": "3af161d0",
   "metadata": {},
   "outputs": [
    {
     "data": {
      "text/plain": [
       "<BarContainer object of 50 artists>"
      ]
     },
     "execution_count": 65,
     "metadata": {},
     "output_type": "execute_result"
    },
    {
     "data": {
      "image/png": "[encoded data removed]",
      "text/plain": [
       "<Figure size 432x288 with 1 Axes>"
      ]
     },
     "metadata": {
      "needs_background": "light"
     },
     "output_type": "display_data"
    }
   ],
   "source": [
    "plt.bar(top50.actor, top50.appearance)"
   ]
  }
 ],
 "metadata": {
  "kernelspec": {
   "display_name": "Python 3 (ipykernel)",
   "language": "python",
   "name": "python3"
  },
  "language_info": {
   "codemirror_mode": {
    "name": "ipython",
    "version": 3
   },
   "file_extension": ".py",
   "mimetype": "text/x-python",
   "name": "python",
   "nbconvert_exporter": "python",
   "pygments_lexer": "ipython3",
   "version": "3.9.12"
  }
 },
 "nbformat": 4,
 "nbformat_minor": 5
}
