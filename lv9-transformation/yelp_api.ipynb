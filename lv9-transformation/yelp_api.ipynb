{
 "cells": [
  {
   "cell_type": "code",
   "execution_count": 31,
   "id": "bfe6fd16",
   "metadata": {},
   "outputs": [],
   "source": [
    "import pandas as pd"
   ]
  },
  {
   "cell_type": "code",
   "execution_count": 19,
   "id": "3eb78c80",
   "metadata": {},
   "outputs": [],
   "source": [
    "import requests\n",
    "\n",
    "api_key = '_Dlccx0wbxIfFyliclqmeoeNxTmn2vSwTkw_AFFYc6mXxUhtHimWH2Ffq1cU17BEkIS1q03RS4XQxNiR9B1IL0q1gHw3zB2gsOkEoHKIJbYgv2cUeSNrYU5-07oOYnYx'\n",
    "\n",
    "url = 'https://api.yelp.com/v3/businesses/search?location=Seattle'\n",
    "\n",
    "headers = {'Authorization': f'Bearer {api_key}'}\n",
    "req = requests.get(url, headers=headers)\n",
    "\n",
    "res = req.json()\n",
    "\n",
    "res = res['businesses']"
   ]
  },
  {
   "cell_type": "code",
   "execution_count": 53,
   "id": "f29331dd",
   "metadata": {},
   "outputs": [
    {
     "name": "stdout",
     "output_type": "stream",
     "text": [
      "Pike Place Chowder matched on keyword for\n",
      "Piroshky Piroshky matched on keyword for\n",
      "The Pink Door matched on keyword for\n",
      "Chihuly Garden and Glass matched on keyword for\n",
      "Starbucks Reserve Roastery Seattle matched on keyword for\n",
      "Beecher's Handmade Cheese matched on keyword for\n",
      "The Crumpet Shop matched on keyword for\n",
      "Le Panier matched on keyword for\n",
      "Japonessa Sushi Cocina matched on keyword for\n",
      "Biscuit Bitch matched on keyword for\n",
      "Lola matched on keyword for\n",
      "Serious Pie Downtown matched on keyword for\n",
      "Toulouse Petit Kitchen & Lounge matched on keyword for\n",
      "Umi Sake House matched on keyword for\n",
      "Von's 1000 Spirits matched on keyword for\n",
      "Shiro's matched on keyword for\n",
      "Tacos Chukis matched on keyword for\n"
     ]
    }
   ],
   "source": [
    "for i in range(len(res)):\n",
    "\n",
    "    id = res[i]['id']\n",
    "\n",
    "    url = f'https://api.yelp.com/v3/businesses/{id}/reviews'\n",
    "\n",
    "    headers = {'Authorization': f'Bearer {api_key}'}\n",
    "    req = requests.get(url, headers=headers)\n",
    "\n",
    "    reviews = req.json()\n",
    "    \n",
    "    matches = ['inspect', 'roach', 'for']\n",
    "\n",
    "    for x in matches:\n",
    "        if x in pd.DataFrame(reviews['reviews'])['text'].str.cat(sep=' '):\n",
    "            print(f\"{res[i]['name']} matched on keyword {x}\")"
   ]
  }
 ],
 "metadata": {
  "kernelspec": {
   "display_name": "Python 3 (ipykernel)",
   "language": "python",
   "name": "python3"
  },
  "language_info": {
   "codemirror_mode": {
    "name": "ipython",
    "version": 3
   },
   "file_extension": ".py",
   "mimetype": "text/x-python",
   "name": "python",
   "nbconvert_exporter": "python",
   "pygments_lexer": "ipython3",
   "version": "3.9.12"
  }
 },
 "nbformat": 4,
 "nbformat_minor": 5
}
